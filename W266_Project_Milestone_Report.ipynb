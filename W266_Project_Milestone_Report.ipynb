{
 "cells": [
  {
   "cell_type": "markdown",
   "metadata": {},
   "source": [
    "Roy Gvirtsman <roy.gvirtsman@berkeley.edu>\n",
    "\n",
    "Chuqing He <chqngh@berkeley.edu> \n",
    "\n",
    "Tony Panza <apanza@berkeley.edu>"
   ]
  },
  {
   "cell_type": "markdown",
   "metadata": {},
   "source": [
    "# Abstract\n",
    "\n",
    "This shall examine vector representations of cooking recipes."
   ]
  },
  {
   "cell_type": "markdown",
   "metadata": {},
   "source": [
    "# Introduction\n"
   ]
  },
  {
   "cell_type": "markdown",
   "metadata": {},
   "source": [
    "# Background\n",
    "\n",
    "A similar work and idea for inspiration is the Stanford CS224n paper by Agarwal and Miller (2011)."
   ]
  },
  {
   "cell_type": "markdown",
   "metadata": {},
   "source": [
    "# Methods"
   ]
  },
  {
   "cell_type": "markdown",
   "metadata": {},
   "source": [
    "# Results and Discussion"
   ]
  },
  {
   "cell_type": "markdown",
   "metadata": {},
   "source": [
    "# Next Steps\n",
    "\n",
    "Try the [Google part of speech parser](https://cloud.google.com/natural-language/) as a way to extract and identify the \"core\" ingredients from an ingredients list.\n",
    "\n",
    "![Example tagging of ingredients](pasted_image_at_2017_07_25_11_38_pm.png)"
   ]
  },
  {
   "cell_type": "markdown",
   "metadata": {},
   "source": [
    "# References\n",
    "\n",
    "Jaan Altosaar. 2017. food2vec - Augmented cooking with machine intelligence – Jaan Altosaar.\n",
    "\n",
    "Rahul Agarwal and Kevin Miller. 2011. Information Extraction from Recipes. Technical report.\n",
    "\n",
    "Tiago Simas, Michal Ficek, Albert Diaz-Guilera, Pere Obrador and Pablo R. Rodriguez. 2017. Food-Bridging: A New Network Construction to Unveil the Principles of Cooking. Frontiers in ICT, 4.\n",
    "\n",
    "Wesley Tansey, Edward Lowe and James Scott. 2016. _Diet2Vec: Multi-scale analysis of massive dietary data_. 1st edition.\n",
    "\n",
    "Yong-Yeol Ahn, Sebastian E. Ahnert, James P. Bagrow and Albert-László Barabási. 2011. Flavor network and the principles of food pairing. _Scientific Reports_, 1(1)."
   ]
  },
  {
   "cell_type": "code",
   "execution_count": null,
   "metadata": {
    "collapsed": true
   },
   "outputs": [],
   "source": []
  }
 ],
 "metadata": {
  "kernelspec": {
   "display_name": "Python 2",
   "language": "python",
   "name": "python2"
  },
  "language_info": {
   "codemirror_mode": {
    "name": "ipython",
    "version": 2
   },
   "file_extension": ".py",
   "mimetype": "text/x-python",
   "name": "python",
   "nbconvert_exporter": "python",
   "pygments_lexer": "ipython2",
   "version": "2.7.13"
  }
 },
 "nbformat": 4,
 "nbformat_minor": 2
}
