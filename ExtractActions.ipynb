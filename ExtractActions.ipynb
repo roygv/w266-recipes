{
 "cells": [
  {
   "cell_type": "code",
   "execution_count": 1,
   "metadata": {
    "collapsed": true
   },
   "outputs": [],
   "source": [
    "import numpy as np\n",
    "import pandas as pd\n",
    "from collections import defaultdict\n",
    "import time\n",
    "from tqdm import tqdm as ProgressBar\n",
    "import six # needed for Google Cloud client\n",
    "import operator\n",
    "import sys\n",
    "import en # NodeBox https://www.nodebox.net/code/index.php/Linguistics#verb_conjugation\n",
    "from nltk.corpus import stopwords\n",
    "\n",
    "from google.cloud import language\n",
    "from google.cloud.language import enums\n",
    "from google.cloud.language import types"
   ]
  },
  {
   "cell_type": "code",
   "execution_count": 2,
   "metadata": {
    "collapsed": false
   },
   "outputs": [
    {
     "name": "stdout",
     "output_type": "stream",
     "text": [
      "(89061, 11)\n",
      "['', '(r) condensed cream celery soup', '(r) condensed cream mushroom soup', 'abalone shell', 'absinthe', 'acai berry pulp', 'acai berry sorbet', 'acai powder', 'acaipomegranate juice']\n",
      "[ [u'In a bowl, mix the tomatoes, onion, red bell pepper, yellow bell pepper, cilantro, lime juice, and salt. Cover and refrigerate until ready to serve.']]\n",
      "[ [u'6 roma (plum) tomatoes, diced', u'1 sweet onion, diced', u'1 medium red bell pepper, diced', u'1 medium yellow bell pepper, diced', u'1 bunch cilantro, finely minced', u'1 lime, juiced', u'1 teaspoon salt, or to taste', u'Add all ingredients to list', u'Add all ingredients to list']]\n",
      "[ ['roma plum tomatoes', 'sweet onion', 'red bell pepper', 'yellow bell pepper', 'cilantro', 'lime', 'salt']]\n"
     ]
    }
   ],
   "source": [
    "df=pd.read_pickle('CleanedIngredients.pkl')\n",
    "cleanIngredients=pd.read_pickle('unique_ingredients.pkl')\n",
    "print df.shape\n",
    "print cleanIngredients[0:9]\n",
    "print df[['instructionSteps']].values[0]\n",
    "print df[['ingredients']].values[0]\n",
    "print df[['cleanedIngredients']].values[0]\n"
   ]
  },
  {
   "cell_type": "code",
   "execution_count": 3,
   "metadata": {
    "collapsed": true
   },
   "outputs": [],
   "source": [
    "def get_verbs(text):\n",
    "    \"\"\"Detects syntax in the text.\"\"\"\n",
    "    client = language.LanguageServiceClient()\n",
    "\n",
    "    if isinstance(text, six.binary_type):\n",
    "        text = text.decode('utf-8')\n",
    "\n",
    "    # Instantiates a plain text document.\n",
    "    document = types.Document(\n",
    "        content=text,\n",
    "        type=enums.Document.Type.PLAIN_TEXT)\n",
    "\n",
    "    # Detects syntax in the document. You can also analyze HTML with:\n",
    "    #   document.type == enums.Document.Type.HTML\n",
    "    tokens = client.analyze_syntax(document).tokens\n",
    "\n",
    "    # part-of-speech tags from enums.PartOfSpeech.Tag\n",
    "    pos_tag = ('UNKNOWN', 'ADJ', 'ADP', 'ADV', 'CONJ', 'DET', 'NOUN', 'NUM',\n",
    "               'PRON', 'PRT', 'PUNCT', 'VERB', 'X', 'AFFIX')\n",
    "\n",
    "    verbs=list()\n",
    "    for token in tokens:\n",
    "        if pos_tag[token.part_of_speech.tag] == 'VERB':\n",
    "            verb=(token.text.content).lower()\n",
    "            try:        \n",
    "                verb=en.verb.present(verb)\n",
    "            except:\n",
    "                pass\n",
    "            if verb not in stopWords:\n",
    "                verbs.append(verb)\n",
    "    time.sleep(.03)   # avoid Google API quota\n",
    "    return(verbs)"
   ]
  },
  {
   "cell_type": "code",
   "execution_count": 4,
   "metadata": {
    "collapsed": false
   },
   "outputs": [
    {
     "name": "stdout",
     "output_type": "stream",
     "text": [
      "['mix', 'refrigerate', 'serve']\n",
      "['mix', 'chill', u'flavored', 'cut', 'arrange', 'sprinkle', 'desire', 'spray', 'repeat', 'remain', 'allow', 'cool', 'serve']\n",
      "['add', 'remain', 'taste', 'melt', 'stir', 'thicken', 'continue', 'stir', 'melt', 'pour', 'cover']\n",
      "[u'flavored', 'combine', 'stir', u'overbake', 'let', 'cool', 'remove', 'cool', 'make', u'get', 'last']\n",
      "['mix', 'melt', 'turn', 'add', 'pour', 'simmer', 'turn', 'run']\n",
      "['pour', 'cook', 'set', 'brush', 'cut', 'spread', 'serve', 'sprinkle']\n",
      "['grease', 'stir', 'pan', 'mix', 'mix', 'divide', 'bake', 'insert', 'come']\n",
      "['cook', 'stir', 'brown', 'mix', 'cover', 'bring', 'cover', 'reduce', 'simmer', 'absorb', 'stir', 'continue', 'simmer', u'heated', 'mix']\n",
      "['heat', 'warm', 'combine', 'used', 'transfer', 'turn', 'coat', 'run', 'insert', 'read']\n",
      "['grease', 'stir', 'melt', 'add', 'mix', 'combine', 'stir', 'fold', 'spread', 'bake', 'insert', 'come', 'remove', 'cool']\n"
     ]
    }
   ],
   "source": [
    "for idx in range(10):\n",
    "    instructions=df[['instructionSteps']].values[idx]\n",
    "    verbs=list()\n",
    "    for i in instructions[0]:\n",
    "        verbs += get_verbs(i)\n",
    "    print verbs\n",
    "#print get_verbs(instruction)"
   ]
  },
  {
   "cell_type": "code",
   "execution_count": 5,
   "metadata": {
    "collapsed": false
   },
   "outputs": [
    {
     "name": "stderr",
     "output_type": "stream",
     "text": [
      "Processing recipes: 12474it [27:28,  6.78it/s]"
     ]
    },
    {
     "ename": "TypeError",
     "evalue": "cannot concatenate 'str' and 'type' objects",
     "output_type": "error",
     "traceback": [
      "\u001b[0;31m---------------------------------------------------------------------------\u001b[0m",
      "\u001b[0;31mTypeError\u001b[0m                                 Traceback (most recent call last)",
      "\u001b[0;32m<ipython-input-5-900178118973>\u001b[0m in \u001b[0;36m<module>\u001b[0;34m()\u001b[0m\n\u001b[1;32m     13\u001b[0m                     \u001b[0;32mbreak\u001b[0m\u001b[0;34m\u001b[0m\u001b[0m\n\u001b[1;32m     14\u001b[0m             \u001b[0;32mexcept\u001b[0m\u001b[0;34m:\u001b[0m\u001b[0;34m\u001b[0m\u001b[0m\n\u001b[0;32m---> 15\u001b[0;31m                 \u001b[0;32mprint\u001b[0m \u001b[0;34m'Error: '\u001b[0m\u001b[0;34m+\u001b[0m\u001b[0msys\u001b[0m\u001b[0;34m.\u001b[0m\u001b[0mexc_info\u001b[0m\u001b[0;34m(\u001b[0m\u001b[0;34m)\u001b[0m\u001b[0;34m[\u001b[0m\u001b[0;36m0\u001b[0m\u001b[0;34m]\u001b[0m \u001b[0;34m+\u001b[0m \u001b[0;34m'. Waiting...'\u001b[0m\u001b[0;34m\u001b[0m\u001b[0m\n\u001b[0m\u001b[1;32m     16\u001b[0m                 \u001b[0mtime\u001b[0m\u001b[0;34m.\u001b[0m\u001b[0msleep\u001b[0m\u001b[0;34m(\u001b[0m\u001b[0;36m10\u001b[0m\u001b[0;34m)\u001b[0m   \u001b[0;31m# avoid Google API quota\u001b[0m\u001b[0;34m\u001b[0m\u001b[0m\n\u001b[1;32m     17\u001b[0m \u001b[0;32mprint\u001b[0m \u001b[0;34m'Top 30 Verbs:'\u001b[0m\u001b[0;34m\u001b[0m\u001b[0m\n",
      "\u001b[0;31mTypeError\u001b[0m: cannot concatenate 'str' and 'type' objects"
     ]
    }
   ],
   "source": [
    "allVerbs = defaultdict(int)\n",
    "\n",
    "# Load a list of stopwords\n",
    "stopWords = set(stopwords.words('english'))\n",
    "\n",
    "class BreakoutException(Exception): pass  # declare a label\n",
    "\n",
    "try:\n",
    "    for idx, row in ProgressBar(df.iterrows(), desc=\"Processing recipes\"):\n",
    "        if idx<22688:\n",
    "            continue\n",
    "        if  type(row['instructionSteps']) != float:\n",
    "            instructions = '.'.join(instruction for instruction in row['instructionSteps'])\n",
    "            try:\n",
    "                verbs = get_verbs(instructions)\n",
    "                for verb in verbs:\n",
    "                    allVerbs[verb] += 1 \n",
    "            except KeyboardInterrupt:\n",
    "                raise BreakoutException\n",
    "            except: \n",
    "                print idx \n",
    "                print instructions\n",
    "                raise BreakoutException\n",
    "except BreakoutException:\n",
    "    pass\n",
    "print 'Top 30 Verbs:'\n",
    "for item in sorted(allVerbs.items(), reverse=True, key=operator.itemgetter(1))[:30]:\n",
    "    print item"
   ]
  },
  {
   "cell_type": "code",
   "execution_count": 8,
   "metadata": {
    "collapsed": false
   },
   "outputs": [
    {
     "data": {
      "text/plain": [
       "965"
      ]
     },
     "execution_count": 8,
     "metadata": {},
     "output_type": "execute_result"
    }
   ],
   "source": [
    "len(allVerbs)"
   ]
  },
  {
   "cell_type": "code",
   "execution_count": null,
   "metadata": {
    "collapsed": true
   },
   "outputs": [],
   "source": [
    "verbVertor =  [get_verbs('.'.join(df[['instructionSteps']].values[i][0])) for i in range(df.shape[0])]\n",
    "df['verbs']=verbVertor"
   ]
  },
  {
   "cell_type": "code",
   "execution_count": 12,
   "metadata": {
    "collapsed": false
   },
   "outputs": [],
   "source": [
    "# Store data (serialize to pickle file)\n",
    "df.to_pickle('cleanedIngredients.pkl')\n",
    "with open('verbs.pkl', 'wb') as handle:\n",
    "    pickle.dump(allVerbs, handle, protocol=pickle.HIGHEST_PROTOCOL)"
   ]
  },
  {
   "cell_type": "code",
   "execution_count": null,
   "metadata": {
    "collapsed": true
   },
   "outputs": [],
   "source": [
    "df.sample(5)"
   ]
  }
 ],
 "metadata": {
  "kernelspec": {
   "display_name": "Python 2",
   "language": "python",
   "name": "python2"
  },
  "language_info": {
   "codemirror_mode": {
    "name": "ipython",
    "version": 2
   },
   "file_extension": ".py",
   "mimetype": "text/x-python",
   "name": "python",
   "nbconvert_exporter": "python",
   "pygments_lexer": "ipython2",
   "version": "2.7.13"
  }
 },
 "nbformat": 4,
 "nbformat_minor": 2
}
