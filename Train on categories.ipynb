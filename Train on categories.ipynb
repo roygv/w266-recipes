{
 "cells": [
  {
   "cell_type": "code",
   "execution_count": 1,
   "metadata": {
    "collapsed": true
   },
   "outputs": [],
   "source": [
    "import numpy as np\n",
    "import pandas as pd\n",
    "from collections import defaultdict\n",
    "import time\n",
    "from tqdm import tqdm as ProgressBar\n",
    "import six # needed for Google Cloud client\n",
    "import sys\n",
    "import pickle\n",
    "import operator\n",
    "import nltk\n",
    "import en # NodeBox https://www.nodebox.net/code/index.php/Linguistics#verb_conjugation\n",
    "\n",
    "from google.cloud import language\n",
    "from google.cloud.language import enums\n",
    "from google.cloud.language import types"
   ]
  },
  {
   "cell_type": "code",
   "execution_count": 2,
   "metadata": {
    "collapsed": false
   },
   "outputs": [],
   "source": [
    "\n",
    "df=pd.read_pickle('CleanedIngredientsWithVerbs.pkl')\n",
    "ingredientsDict=pd.read_pickle('unique_ingredients.pkl')\n",
    "ingredientsDict.append('oister')"
   ]
  },
  {
   "cell_type": "code",
   "execution_count": 3,
   "metadata": {
    "collapsed": false
   },
   "outputs": [
    {
     "data": {
      "text/plain": [
       "True"
      ]
     },
     "execution_count": 3,
     "metadata": {},
     "output_type": "execute_result"
    }
   ],
   "source": [
    "df.shape\n",
    "ingredientsDict.append('oyster')\n",
    "'oyster' in ingredientsDict"
   ]
  },
  {
   "cell_type": "code",
   "execution_count": 4,
   "metadata": {
    "collapsed": false
   },
   "outputs": [
    {
     "data": {
      "text/plain": [
       "['',\n",
       " '(r) condensed cream celery soup',\n",
       " '(r) condensed cream mushroom soup',\n",
       " 'abalone shell',\n",
       " 'absinthe',\n",
       " 'acai berry pulp',\n",
       " 'acai berry sorbet',\n",
       " 'acai powder',\n",
       " 'acaipomegranate juice']"
      ]
     },
     "execution_count": 4,
     "metadata": {},
     "output_type": "execute_result"
    }
   ],
   "source": [
    "ingredientsDict[0:9]"
   ]
  },
  {
   "cell_type": "code",
   "execution_count": 5,
   "metadata": {
    "collapsed": false
   },
   "outputs": [
    {
     "name": "stdout",
     "output_type": "stream",
     "text": [
      "[ [u'In a bowl, mix the tomatoes, onion, red bell pepper, yellow bell pepper, cilantro, lime juice, and salt. Cover and refrigerate until ready to serve.']]\n"
     ]
    }
   ],
   "source": [
    "# df.sample(1)\n",
    "print df[['instructionSteps']].values[0]\n",
    "#print df.values[0]"
   ]
  },
  {
   "cell_type": "code",
   "execution_count": 6,
   "metadata": {
    "collapsed": false
   },
   "outputs": [
    {
     "name": "stdout",
     "output_type": "stream",
     "text": [
      "[ [u'6 roma (plum) tomatoes, diced', u'1 sweet onion, diced', u'1 medium red bell pepper, diced', u'1 medium yellow bell pepper, diced', u'1 bunch cilantro, finely minced', u'1 lime, juiced', u'1 teaspoon salt, or to taste', u'Add all ingredients to list', u'Add all ingredients to list']]\n"
     ]
    }
   ],
   "source": [
    "print df[['ingredients']].values[0]"
   ]
  },
  {
   "cell_type": "code",
   "execution_count": 7,
   "metadata": {
    "collapsed": false
   },
   "outputs": [
    {
     "data": {
      "text/plain": [
       "17776    [3 eggs, 1 1/2 cups milk, 1/2 cup butter, melt...\n",
       "342      [3 cups water, 2 (14 ounce) cans diced tomatoe...\n",
       "6588     [1 tablespoon vegetable oil, divided, 1 pinch ...\n",
       "7438     [4 pounds fresh young black walnuts (in shell)...\n",
       "7076     [1 teaspoon vegetable oil, 1 (13.8 ounce) pack...\n",
       "Name: ingredients, dtype: object"
      ]
     },
     "execution_count": 7,
     "metadata": {},
     "output_type": "execute_result"
    }
   ],
   "source": [
    "df[\"ingredients\"].sample(5)"
   ]
  },
  {
   "cell_type": "code",
   "execution_count": 8,
   "metadata": {
    "collapsed": false
   },
   "outputs": [
    {
     "data": {
      "text/html": [
       "<div>\n",
       "<table border=\"1\" class=\"dataframe\">\n",
       "  <thead>\n",
       "    <tr style=\"text-align: right;\">\n",
       "      <th></th>\n",
       "      <th>categories</th>\n",
       "      <th>cookingTime</th>\n",
       "      <th>description</th>\n",
       "      <th>ingredients</th>\n",
       "      <th>instructionSteps</th>\n",
       "      <th>name</th>\n",
       "      <th>rating</th>\n",
       "      <th>ratingCount</th>\n",
       "      <th>url</th>\n",
       "      <th>cookingTimeMinutes</th>\n",
       "      <th>cleanedIngredients</th>\n",
       "      <th>verbs</th>\n",
       "    </tr>\n",
       "  </thead>\n",
       "  <tbody>\n",
       "    <tr>\n",
       "      <th>3704</th>\n",
       "      <td>[Chicken Legs, Baked and Roasted Chicken, Main...</td>\n",
       "      <td>PT3H20M</td>\n",
       "      <td>NaN</td>\n",
       "      <td>[8 large chicken legs, 1 tablespoon salt, 1 cu...</td>\n",
       "      <td>[Sprinkle chicken with salt and place in a lar...</td>\n",
       "      <td>Roasted Orange Rosemary Honey Glazed Chicken</td>\n",
       "      <td>4.32</td>\n",
       "      <td>53</td>\n",
       "      <td>http://allrecipes.com/recipe/235165/roasted-or...</td>\n",
       "      <td>200.0</td>\n",
       "      <td>[chicken legs, salt, honey, orange juice pulp,...</td>\n",
       "      <td>[sprinkle, whisk, pour, cover, refrigerate, po...</td>\n",
       "    </tr>\n",
       "  </tbody>\n",
       "</table>\n",
       "</div>"
      ],
      "text/plain": [
       "                                             categories cookingTime  \\\n",
       "3704  [Chicken Legs, Baked and Roasted Chicken, Main...     PT3H20M   \n",
       "\n",
       "     description                                        ingredients  \\\n",
       "3704         NaN  [8 large chicken legs, 1 tablespoon salt, 1 cu...   \n",
       "\n",
       "                                       instructionSteps  \\\n",
       "3704  [Sprinkle chicken with salt and place in a lar...   \n",
       "\n",
       "                                              name  rating  ratingCount  \\\n",
       "3704  Roasted Orange Rosemary Honey Glazed Chicken    4.32           53   \n",
       "\n",
       "                                                    url  cookingTimeMinutes  \\\n",
       "3704  http://allrecipes.com/recipe/235165/roasted-or...               200.0   \n",
       "\n",
       "                                     cleanedIngredients  \\\n",
       "3704  [chicken legs, salt, honey, orange juice pulp,...   \n",
       "\n",
       "                                                  verbs  \n",
       "3704  [sprinkle, whisk, pour, cover, refrigerate, po...  "
      ]
     },
     "execution_count": 8,
     "metadata": {},
     "output_type": "execute_result"
    }
   ],
   "source": [
    "df.sample(1)"
   ]
  },
  {
   "cell_type": "code",
   "execution_count": 43,
   "metadata": {
    "collapsed": false
   },
   "outputs": [],
   "source": [
    "def get_ingredients(instructions, Ingredients, ingredientsDict):\n",
    "    \"\"\"Create a more generic list of ingredients using the way they are referenced in the instructions.\"\"\"\n",
    "    UnreferencesIngredients = list(Ingredients)\n",
    "    client = language.LanguageServiceClient()\n",
    "    joined_ingredients = ' '.join(UnreferencesIngredients)\n",
    "    tokenized_ingredients = nltk.word_tokenize(joined_ingredients)\n",
    "    \n",
    "    if isinstance(instructions, six.binary_type):\n",
    "        instructions = instructions.decode('utf-8')+'.'\n",
    "\n",
    "    # Instantiates a plain text document.\n",
    "    document = types.Document(\n",
    "        content=instructions,\n",
    "        type=enums.Document.Type.PLAIN_TEXT)\n",
    "\n",
    "    # Detects syntax in the document. You can also analyze HTML with:\n",
    "    #   document.type == enums.Document.Type.HTML\n",
    "    tokens = client.analyze_syntax(document).tokens\n",
    "\n",
    "    # part-of-speech tags from enums.PartOfSpeech.Tag\n",
    "    pos_tag = ('UNKNOWN', 'ADJ', 'ADP', 'ADV', 'CONJ', 'DET', 'NOUN', 'NUM',\n",
    "               'PRON', 'PRT', 'PUNCT', 'VERB', 'X', 'AFFIX')\n",
    "\n",
    "    short_ingredients=list()\n",
    "    idx = 0\n",
    "    content = list()\n",
    "    for token in tokens:\n",
    "        # Parser fails many times to identify an impertive verb in the beginning of a sentence\n",
    "        # So if it can be a verb and is capitalized then it is a verb.\n",
    "        tag = pos_tag[token.part_of_speech.tag]\n",
    "        if token.text.content.lower() != token.text.content and en.is_verb(token.text.content.lower()):\n",
    "            tag = 'VERB'\n",
    "        # If this was identified and a noun and can be a verb and there is a noun following\n",
    "        elif (content==[] # first\n",
    "             and tag == 'NOUN' # parser thinks it is a NOUN but can also be a verb\n",
    "             and len(tokens) > idx+1\n",
    "             and en.is_verb(token.text.content.lower()) and pos_tag[tokens[idx+1].part_of_speech.tag] == 'NOUN'):\n",
    "            if (pos_tag[tokens[idx-1].part_of_speech.tag] == 'PUNCT') and token.text.content not in ingredientsDict:\n",
    "                tag = 'VERB'\n",
    "        else:\n",
    "            tag = pos_tag[token.part_of_speech.tag]\n",
    "\n",
    "        # There is another noun coming, collect the whole phrase.\n",
    "        # PRT example: confectioners' sugar\n",
    "        # CONJ example: salt and pepper\n",
    "        if (tag in ['NOUN','NUM','ADJ','PRT']) and len(tokens) > idx+1 and pos_tag[tokens[idx+1].part_of_speech.tag] in ['NOUN','PRT']:\n",
    "            content.append(token.text.content)\n",
    "            idx += 1\n",
    "            continue\n",
    "        else:\n",
    "            content.append(token.text.content)\n",
    "            # Combine the words to a phrase. Since apostrophe is a POS (PRT) I need to eliminate the extra space.\n",
    "            term = ' '.join(content).replace(' \\'','\\'')\n",
    "            if tag == 'NOUN' and term in UnreferencesIngredients: # term === Ingredient\n",
    "                tag = 'INGREDIENT'\n",
    "                UnreferencesIngredients.remove(term) \n",
    "                # print(u'{}: {}'.format(tag, term))\n",
    "            elif (tag == 'NOUN' and (en.noun.singular(term) in tokenized_ingredients or en.noun.plural(term) in tokenized_ingredients)):\n",
    "                tag = 'INGREDIENT'\n",
    "                UnreferencesIngredients.remove(\n",
    "                            [ingredient for ingredient in UnreferencesIngredients \n",
    "                             if term in ingredient or en.noun.singular(term) in ingredient or en.noun.plural(term) in ingredient][0]) \n",
    "            elif (' ' in term and tag == 'NOUN' and term in joined_ingredients):\n",
    "                tag = 'INGREDIENT'\n",
    "                ingSet = [ingredient for ingredient in UnreferencesIngredients if term in ingredient]\n",
    "                if ingSet<>[]:\n",
    "                    UnreferencesIngredients.remove(ingSet[0]) \n",
    "            else:\n",
    "                if (' ' in term and tag == 'NOUN'):\n",
    "                    if len(set([i for i in UnreferencesIngredients for word in term.split() if word in i])) == 1:\n",
    "                        for i in set([i for i in UnreferencesIngredients for word in term.split() if word in i]):\n",
    "                            UnreferencesIngredients.remove(i) \n",
    "                        tag = 'INGREDIENT'\n",
    "                    if term == ' '.join([word for i in UnreferencesIngredients for word in term.split() if word in i]):\n",
    "                        for i in set([i for i in UnreferencesIngredients for word in term.split() if word in i]):\n",
    "                            UnreferencesIngredients.remove(i) \n",
    "                        tag = 'INGREDIENT'\n",
    "                else:\n",
    "                    # print(u'{}: {}'.format(tag, term))\n",
    "                    pass\n",
    "            content = list()\n",
    "            idx += 1\n",
    "        if tag == 'INGREDIENT':\n",
    "            short_ingredients.append(en.noun.singular(term))\n",
    "            joined_ingredients = ' '.join(UnreferencesIngredients)\n",
    "            tokenized_ingredients = nltk.word_tokenize(joined_ingredients)\n",
    "        # print(u'{}: {}'.format(tag, term))\n",
    "    #time.sleep(.03)   # avoid Google API quota\n",
    "    return(list(set(short_ingredients + UnreferencesIngredients)))"
   ]
  },
  {
   "cell_type": "code",
   "execution_count": 16,
   "metadata": {
    "collapsed": false
   },
   "outputs": [
    {
     "name": "stdout",
     "output_type": "stream",
     "text": [
      "175\n",
      "reduced: pepper, sugar\n",
      "original:1 egg, 1 pound ground beef, 1/2 cup diced onion, 1/2 cup ketchup, 1/2 cup packed brown sugar, 1/2 cup quick cooking oats, 2/3 cup chunky salsa, Add all ingredients to list, salt and pepper to taste\n",
      "set([u'vegetable oil', u'pepper', 'red bell pepper', u'light soy sauce', u'thick soy sauce', u'carrot', u'ginger', u'sugar', u'water', u'cornstarch', u'black bean', u'garlic', u'oyster sauce', 'green bell pepper', u'chicken breast', u'green onion'])\n",
      "We both have:  set(['vegetable oil', 'red bell pepper', 'light soy sauce', 'ginger', 'water', 'cornstarch', 'carrot', 'garlic', 'green bell pepper', 'oyster sauce'])\n",
      "He doesn't have:  set([u'pepper', u'thick soy sauce', u'sugar', u'black bean', u'chicken breast', u'green onion'])\n",
      "I don't have:  set(['skinless boneless chicken breast meat', 'fermented black beans', 'soy sauce', 'black pepper', 'white sugar', 'green onions'])\n",
      "\n"
     ]
    }
   ],
   "source": [
    "text=\"Whisk together the light soy sauce, cornstarch, 1 teaspoon of sugar, and pepper in a large glass or ceramic bowl. Add the chicken breast and toss to evenly coat. Cover the bowl with plastic wrap, and marinate in the refrigerator for 10 minutes..Heat the water in a large skillet over medium-high heat until boiling. Quickly stir in the chicken and cook for 3 to 4 minutes. Chicken will not be cooked through. Drain the water and place chicken on a plate. Set aside. Carefully wipe down the skillet and heat the vegetable oil over medium heat. Cook and stir the ginger and garlic until fragrant. Stir in the chicken, black beans and 1 tablespoon of sugar. Cook the chicken breasts until no longer pink in the center. Stir in the red and green peppers, green onions, carrots, oyster sauce, and thick soy sauce. Cook and stir for 1 minutes.\"\n",
    "Ingredients=[u'1 pound ground beef', u'1/2 cup diced onion', u'2/3 cup chunky salsa', u'1/2 cup ketchup', u'1/2 cup packed brown sugar', u'1 egg', u'1/2 cup quick cooking oats', u'salt and pepper to taste', u'Add all ingredients to list', u'Add all ingredients to list']\n",
    "cleanedIngredients =['light soy sauce', 'cornstarch', 'white sugar', 'black pepper', 'skinless boneless chicken breast meat', 'water', 'vegetable oil', 'ginger', 'garlic', 'fermented black beans', 'white sugar', 'green bell pepper', 'red bell pepper', 'green onions', 'carrot', 'oyster sauce', 'soy sauce']\n",
    "client = language.LanguageServiceClient()\n",
    "\n",
    "if isinstance(text, six.binary_type):\n",
    "    text = text.decode('utf-8')\n",
    "\n",
    "# Instantiates a plain text document.\n",
    "document = types.Document(\n",
    "    content=text,\n",
    "    type=enums.Document.Type.PLAIN_TEXT)\n",
    "\n",
    "    # Detects syntax in the document. You can also analyze HTML with:\n",
    "    #   document.type == enums.Document.Type.HTML\n",
    "#tokens = client.analyze_syntax(document).tokens\n",
    "tokens = client.annotate_text(document, {'extract_syntax': True,}).tokens\n",
    "pos_tag = ('UNKNOWN', 'ADJ', 'ADP', 'ADV', 'CONJ', 'DET', 'NOUN', 'NUM',\n",
    "           'PRON', 'PRT', 'PUNCT', 'VERB', 'X', 'AFFIX')\n",
    "idx = 0\n",
    "content=list()\n",
    "short_ingredients=list()\n",
    "print len(tokens)\n",
    "for token in tokens:\n",
    "    if token.text.content.lower() != token.text.content and en.is_verb(token.text.content.lower()):\n",
    "        tag = 'VERB'\n",
    "    elif en.is_verb(token.text.content.lower()) and pos_tag[tokens[idx+1].part_of_speech.tag] == 'NOUN':\n",
    "        tag = 'VERB'\n",
    "    else:\n",
    "        tag = pos_tag[token.part_of_speech.tag]\n",
    "    \n",
    "    # There is another noun coming, collect the whole phrase\n",
    "    if (tag == 'NOUN' or tag == 'NUM' or tag == 'ADJ') and pos_tag[tokens[idx+1].part_of_speech.tag] == 'NOUN':\n",
    "        content.append(token.text.content)\n",
    "        idx += 1\n",
    "        continue\n",
    "    else:\n",
    "        content.append(token.text.content)\n",
    "        term = ' '.join(content)\n",
    "        if tag == 'NOUN' and term in Ingredients:\n",
    "            tag = 'INGREDIENT'\n",
    "            Ingredients.remove(term)\n",
    "            # print(u'{}: {}'.format(tag, term))\n",
    "        elif (tag == 'NOUN' and term in ', '.join(Ingredients)):\n",
    "            tag = 'INGREDIENT'\n",
    "        else:\n",
    "            if (' ' in term and tag == 'NOUN') or tag != 'NOUN':\n",
    "                for word in term.split():\n",
    "                    if word in Ingredients:\n",
    "                        tag = 'INGREDIENT'\n",
    "                        term = word\n",
    "                        # print(u'{}: {}'.format(tag, term))\n",
    "                    else:\n",
    "                        # print(u'{}: {}'.format(tag, term))\n",
    "                        pass\n",
    "            else:\n",
    "                # print(u'{}: {}'.format(tag, term))\n",
    "                pass\n",
    "        content = list()\n",
    "        idx += 1\n",
    "        if tag == 'INGREDIENT':\n",
    "            short_ingredients.append(term)\n",
    "print 'reduced: '+', '.join(sorted(set(short_ingredients)))\n",
    "print 'original:'+', '.join(sorted(set(Ingredients)))\n",
    "\n",
    "ingredients = get_ingredients(text, cleanedIngredients, ingredientsDict)\n",
    "print ingredients\n",
    "tonys = set(cleanedIngredients)\n",
    "print 'We both have: ', (ingredients & tonys)          \n",
    "print 'He doesn\\'t have: ',ingredients-tonys\n",
    "print 'I don\\'t have: ',tonys-ingredients\n",
    "print "
   ]
  },
  {
   "cell_type": "code",
   "execution_count": 11,
   "metadata": {
    "collapsed": false
   },
   "outputs": [
    {
     "name": "stderr",
     "output_type": "stream",
     "text": [
      "Processing recipes: 89061it [10:58:28,  2.38it/s]"
     ]
    },
    {
     "name": "stdout",
     "output_type": "stream",
     "text": [
      "12678\n",
      "17393\n",
      "19013\n"
     ]
    },
    {
     "name": "stderr",
     "output_type": "stream",
     "text": [
      "\n"
     ]
    }
   ],
   "source": [
    "ingredientsSet=set()\n",
    "oldIngredientsSet=set()\n",
    "idx=0\n",
    "for idx, row in ProgressBar(df.iterrows(), desc=\"Processing recipes\"):\n",
    "    # print 'Ingredients:',row['cleanedIngredients']\n",
    "    if type(row['instructionSteps']) != float:\n",
    "        instructions = '.'.join(instruction for instruction in row['instructionSteps'])\n",
    "        #print row['name']\n",
    "        #print instructions\n",
    "        #print row['ingredients']\n",
    "        #print row['cleanedIngredients']\n",
    "        ingredients = row['cleanedIngredients']\n",
    "        oldIngredientsSet |=set(ingredients)\n",
    "        # ingredients = ' '.join(ingredient for ingredient in row['cleanedIngredients'])\n",
    "        ingredients = get_ingredients(instructions, ingredients, ingredientsDict)\n",
    "        ingredientsSet |= ingredients\n",
    "#    if idx==100:\n",
    "#        break\n",
    "print idx\n",
    "print len(ingredientsSet)\n",
    "print len(oldIngredientsSet)"
   ]
  },
  {
   "cell_type": "code",
   "execution_count": 9,
   "metadata": {
    "collapsed": false
   },
   "outputs": [
    {
     "name": "stdout",
     "output_type": "stream",
     "text": [
      "set([])\n",
      "set([])\n"
     ]
    }
   ],
   "source": [
    "print ingredientsSet\n",
    "print oldIngredientsSet\n",
    "with open('ingredientsSet.pkl', 'wb') as handle:\n",
    "    pickle.dump(ingredientsSet, handle, protocol=pickle.HIGHEST_PROTOCOL)"
   ]
  },
  {
   "cell_type": "code",
   "execution_count": null,
   "metadata": {
    "collapsed": false
   },
   "outputs": [],
   "source": [
    "verbVertor =  [get_ingredients('.'.join(df[['instructionSteps']].values[i][0]),\n",
    "                               df['cleanedIngredients'].values[i],\n",
    "                               ingredientsDict\n",
    "                              ) for i in range(df.shape[0])]\n",
    "df['cleanerIngredients']=verbVertor"
   ]
  },
  {
   "cell_type": "code",
   "execution_count": null,
   "metadata": {
    "collapsed": false
   },
   "outputs": [],
   "source": [
    "# Store data (serialize to pickle file)\n",
    "df.to_pickle('cleanerIngredients.pkl')"
   ]
  },
  {
   "cell_type": "code",
   "execution_count": null,
   "metadata": {
    "collapsed": true
   },
   "outputs": [],
   "source": []
  }
 ],
 "metadata": {
  "kernelspec": {
   "display_name": "Python 2",
   "language": "python",
   "name": "python2"
  },
  "language_info": {
   "codemirror_mode": {
    "name": "ipython",
    "version": 2
   },
   "file_extension": ".py",
   "mimetype": "text/x-python",
   "name": "python",
   "nbconvert_exporter": "python",
   "pygments_lexer": "ipython2",
   "version": "2.7.13"
  }
 },
 "nbformat": 4,
 "nbformat_minor": 2
}
